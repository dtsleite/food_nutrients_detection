{
 "cells": [
  {
   "cell_type": "code",
   "execution_count": 44,
   "metadata": {},
   "outputs": [
    {
     "data": {
      "text/plain": [
       "'\\n    Author: Douglas T. S. Leite\\n    Year: 2018\\n    First Update: october\\n    Purpose: Based on food dominant color try to learn and show its main nutrients\\n'"
      ]
     },
     "execution_count": 44,
     "metadata": {},
     "output_type": "execute_result"
    }
   ],
   "source": [
    "'''\n",
    "    Author: Douglas T. S. Leite\n",
    "    Year: 2018\n",
    "    First Update: october\n",
    "    Purpose: Based on food dominant color try to learn and show its main nutrients\n",
    "'''"
   ]
  },
  {
   "cell_type": "code",
   "execution_count": 45,
   "metadata": {},
   "outputs": [],
   "source": [
    "import os\n",
    "from colorthief import ColorThief\n",
    "import PIL\n",
    "from PIL import Image\n",
    "import matplotlib.pyplot as plt\n",
    "\n",
    "%matplotlib inline"
   ]
  },
  {
   "cell_type": "code",
   "execution_count": 46,
   "metadata": {},
   "outputs": [],
   "source": [
    "# just resize images and save\n",
    "def resize_images(img_name):\n",
    "    baseheight = 212\n",
    "    image = Image.open('raw_images/' + img_name)\n",
    "    hpercent = (baseheight / float(image.size[1]))\n",
    "    wsize = int((float(image.size[0]) * float(hpercent)))\n",
    "    img = image.resize((wsize, baseheight), PIL.Image.ANTIALIAS)\n",
    "    resized_img = img_name\n",
    "    img.save('adjusted_images/' + resized_img)"
   ]
  },
  {
   "cell_type": "code",
   "execution_count": 47,
   "metadata": {},
   "outputs": [],
   "source": [
    "# list images, resize and then save\n",
    "def list_images():\n",
    "    images = os.listdir('raw_images')\n",
    "    \n",
    "    if images != []:\n",
    "        # redimensionar as imagens lidas e gravar no diretorio images_out\n",
    "        for image in images:\n",
    "            resize_images(image)"
   ]
  },
  {
   "cell_type": "code",
   "execution_count": 48,
   "metadata": {},
   "outputs": [],
   "source": [
    "# call above functions when necessary\n",
    "list_images()"
   ]
  },
  {
   "cell_type": "code",
   "execution_count": 51,
   "metadata": {
    "scrolled": true
   },
   "outputs": [],
   "source": [
    "color_thief = ColorThief('adjusted_images/to_1.jpg')\n",
    "# get the dominant color\n",
    "dominant_color = color_thief.get_color(quality=1)\n",
    "# build a color palette\n",
    "palette = color_thief.get_palette(color_count=3)"
   ]
  },
  {
   "cell_type": "code",
   "execution_count": 52,
   "metadata": {},
   "outputs": [
    {
     "data": {
      "image/png": "[encoded data removed]",
      "text/plain": [
       "<Figure size 432x288 with 1 Axes>"
      ]
     },
     "metadata": {
      "needs_background": "light"
     },
     "output_type": "display_data"
    }
   ],
   "source": [
    "plt.imshow([palette])\n",
    "plt.show()"
   ]
  },
  {
   "cell_type": "code",
   "execution_count": null,
   "metadata": {},
   "outputs": [],
   "source": []
  }
 ],
 "metadata": {
  "kernelspec": {
   "display_name": "Python 3",
   "language": "python",
   "name": "python3"
  },
  "language_info": {
   "codemirror_mode": {
    "name": "ipython",
    "version": 3
   },
   "file_extension": ".py",
   "mimetype": "text/x-python",
   "name": "python",
   "nbconvert_exporter": "python",
   "pygments_lexer": "ipython3",
   "version": "3.7.0"
  }
 },
 "nbformat": 4,
 "nbformat_minor": 2
}
